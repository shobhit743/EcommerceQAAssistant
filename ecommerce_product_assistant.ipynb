{
 "cells": [
  {
   "cell_type": "code",
   "execution_count": 2,
   "id": "24a2a38c",
   "metadata": {},
   "outputs": [],
   "source": [
    "from dotenv import load_dotenv\n",
    "load_dotenv()\n",
    "\n",
    "import os\n",
    "os.environ[\"LANGCHAIN_API_KEY\"] = os.getenv(\"LANGCHAIN_API_KEY\")\n",
    "os.environ[\"LANGCHAIN_TRACING_V2\"] = os.getenv(\"LANGCHAIN_TRACING_V2\")\n",
    "os.environ[\"LANGCHAIN_PROJECT\"]=os.getenv(\"LANGCHAIN_PROJECT\")\n"
   ]
  },
  {
   "cell_type": "code",
   "execution_count": 6,
   "id": "ddd25aed",
   "metadata": {},
   "outputs": [],
   "source": [
    "from langchain_core.output_parsers import JsonOutputParser\n",
    "from pydantic import BaseModel\n",
    "from typing import Annotated"
   ]
  },
  {
   "cell_type": "code",
   "execution_count": 8,
   "id": "b8d94478",
   "metadata": {},
   "outputs": [],
   "source": [
    "class Product(BaseModel):\n",
    "    product_name : str\n",
    "    product_detail : str\n",
    "    product_price : Annotated[str,\"The Price of the product should be in USD.\"]"
   ]
  },
  {
   "cell_type": "code",
   "execution_count": 16,
   "id": "949763a1",
   "metadata": {},
   "outputs": [
    {
     "name": "stdout",
     "output_type": "stream",
     "text": [
      "{'product_name': 'iPhone XR', 'product_detail': 'The iPhone XR is a smartphone designed and manufactured by Apple Inc. It was released in October 2018 as a lower-cost alternative to the iPhone XS and XS Max. It features a 6.1-inch Liquid Retina display, A12 Bionic chip, and Face ID facial recognition.', 'product_price': '$499'}\n"
     ]
    }
   ],
   "source": [
    "from langchain_openai import ChatOpenAI\n",
    "from langchain_core.prompts import ChatPromptTemplate\n",
    "jsonParser = JsonOutputParser(pydantic_object=Product)\n",
    "model = ChatOpenAI()\n",
    "prompt = ChatPromptTemplate(messages=[\n",
    "    (\"system\", \"You are a helpful assistant who have knowledge related to the ecommerce project.\"),\n",
    "    (\"user\", \"I want the product details in {format_instructions} on this {topic}. don't give output if you don't have any information abount it\")\n",
    "], partial_variables = {\"format_instructions\" : jsonParser.get_format_instructions()})\n",
    "chain = prompt | model | jsonParser\n",
    "try:\n",
    "    response = chain.invoke({\"topic\": \"iPhone XR\"})\n",
    "    print(response)\n",
    "except:\n",
    "    print(\"No Data Available\")"
   ]
  }
 ],
 "metadata": {
  "kernelspec": {
   "display_name": "Python 3",
   "language": "python",
   "name": "python3"
  },
  "language_info": {
   "codemirror_mode": {
    "name": "ipython",
    "version": 3
   },
   "file_extension": ".py",
   "mimetype": "text/x-python",
   "name": "python",
   "nbconvert_exporter": "python",
   "pygments_lexer": "ipython3",
   "version": "3.12.0"
  }
 },
 "nbformat": 4,
 "nbformat_minor": 5
}
