{
 "cells": [
  {
   "cell_type": "code",
   "execution_count": 46,
   "id": "5332e8bf",
   "metadata": {},
   "outputs": [
    {
     "data": {
      "text/plain": [
       "True"
      ]
     },
     "execution_count": 46,
     "metadata": {},
     "output_type": "execute_result"
    }
   ],
   "source": [
    "import os\n",
    "from dotenv import load_dotenv\n",
    "from langchain_openai import ChatOpenAI\n",
    "from langchain.prompts import PromptTemplate, ChatPromptTemplate, ChatMessagePromptTemplate\n",
    "from langchain_core.output_parsers import StrOutputParser, JsonOutputParser, XMLOutputParser\n",
    "from pydantic import BaseModel\n",
    "load_dotenv()"
   ]
  },
  {
   "cell_type": "code",
   "execution_count": 47,
   "id": "3cf4893e",
   "metadata": {},
   "outputs": [],
   "source": [
    "os.environ[\"LANGCHAIN_API_KEY\"]=os.getenv(\"LANGCHAIN_API_KEY\")\n",
    "os.environ[\"LANGCHAIN_PROJECT\"]=os.getenv(\"LANGCHAIN_PROJECT\")\n",
    "os.environ[\"LANGCHAIN_TRACING_V2\"]=\"true\""
   ]
  },
  {
   "cell_type": "code",
   "execution_count": 17,
   "id": "f9cf9779",
   "metadata": {},
   "outputs": [],
   "source": [
    "from pydantic import BaseModel\n",
    "\n",
    "class Response(BaseModel):\n",
    "    joke : str\n",
    "    punchline : str"
   ]
  },
  {
   "cell_type": "code",
   "execution_count": null,
   "id": "5ec15c2e",
   "metadata": {},
   "outputs": [
    {
     "name": "stdout",
     "output_type": "stream",
     "text": [
      "```xml\n",
      "<joke>\n",
      "   <format>Why don't scientists trust atoms?</format>\n",
      "   <punchline>Because they make up everything!</punchline>\n",
      "</joke>\n",
      "```\n"
     ]
    }
   ],
   "source": [
    "from langchain_core.messages import HumanMessage, SystemMessage\n",
    "model = ChatOpenAI(temperature=0.0)\n",
    "jsonParser = XMLOutputParser()\n",
    "# prompt = PromptTemplate.from_template(template=\"Tell me a joke in this format {format_instruction} on this {topic}.\", partial_variables={\"format_instruction\" : jsonParser.get_format_instructions()})\n",
    "prompt = ChatPromptTemplate(messages=[\n",
    "    (\"system\",\"You are a helpful assistant\"),\n",
    "    (\"human\",\"Tell me a good joke in this format {format_instruction} on this {topic}.\")\n",
    "], partial_variables = {\"format_instruction\" : jsonParser.get_format_instructions()})\n",
    "\n",
    "chain = prompt | model\n",
    "result = chain.invoke({\"topic\":\"car\"})\n",
    "print(result.content)"
   ]
  }
 ],
 "metadata": {
  "kernelspec": {
   "display_name": "Python 3",
   "language": "python",
   "name": "python3"
  },
  "language_info": {
   "codemirror_mode": {
    "name": "ipython",
    "version": 3
   },
   "file_extension": ".py",
   "mimetype": "text/x-python",
   "name": "python",
   "nbconvert_exporter": "python",
   "pygments_lexer": "ipython3",
   "version": "3.12.0"
  }
 },
 "nbformat": 4,
 "nbformat_minor": 5
}
